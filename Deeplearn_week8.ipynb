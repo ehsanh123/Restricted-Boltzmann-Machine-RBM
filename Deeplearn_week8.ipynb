{
  "nbformat": 4,
  "nbformat_minor": 0,
  "metadata": {
    "colab": {
      "provenance": []
    },
    "kernelspec": {
      "name": "python3",
      "display_name": "Python 3"
    },
    "language_info": {
      "name": "python"
    }
  },
  "cells": [
    {
      "cell_type": "code",
      "execution_count": 2,
      "metadata": {
        "id": "YTjA3M9_L2uJ"
      },
      "outputs": [],
      "source": [
        "#Import numpy\n",
        "\n",
        "import numpy as np\n",
        "\n",
        "#Data augmentation library\n",
        "\n",
        "from scipy.ndimage import convolve\n",
        "\n",
        "#Dataset repository\n",
        "\n",
        "from sklearn import datasets\n",
        "\n",
        "#Normalisation\n",
        "\n",
        "from sklearn.preprocessing import minmax_scale\n",
        "\n",
        "#Matplotlib\n",
        "\n",
        "import matplotlib.pyplot as plt\n",
        "\n",
        "plt.style.use(\"classic\")"
      ]
    },
    {
      "cell_type": "code",
      "source": [
        "#Pareto's principle library 80/20\n",
        "\n",
        "from sklearn.model_selection import train_test_split\n",
        "\n",
        "#Import Metrics\n",
        "\n",
        "from sklearn import metrics\n",
        "\n",
        "#RBM model\n",
        "\n",
        "from sklearn.neural_network import BernoulliRBM\n",
        "\n",
        "#MLP Model Neural Net to classify the mnist data\n",
        "\n",
        "from sklearn.neural_network import MLPClassifier\n",
        "\n",
        "#Pipeline is used to train RBM and then feed input into neural nets.\n",
        "\n",
        "from sklearn.pipeline import Pipeline"
      ],
      "metadata": {
        "id": "h8H8Z_z1MyZM"
      },
      "execution_count": 3,
      "outputs": []
    },
    {
      "cell_type": "code",
      "source": [
        "def augment_dataset(X, Y):\n",
        "\n",
        "  #Data augmentation produces 5 time larger dataset by moving the original\n",
        "\n",
        "  #image by 1px to the left, right, down and up\n",
        "\n",
        "  vectors_direction - [\n",
        "\n",
        "  [[0, 1, 0], [0, 0, 0], [0, 0, 0]],\n",
        "\n",
        "  [[0, 0, 0], [1, 0, 0], [0, 0, 0]],\n",
        "\n",
        "  [[0, 0, 0], [0, 0, 1], [0, 0, 0]],\n",
        "\n",
        "  [[0, 0, 0], [0, 0, 0], [0, 1, 0]],\n",
        "\n",
        "  ]\n",
        "\n",
        "  def shift_pos(x, w):\n",
        "\n",
        "    return convolve (x.reshape((8, 8)), mode=\"constant\", weights=w).ravel()\n",
        "\n",
        "  X-np.concatenate(\n",
        "\n",
        "  [X] + [np.apply_along_axis(shift, 1, X, vector) for vector in direction_vectors]\n",
        "\n",
        "  )\n",
        "\n",
        "  Y = np.concatenate([Y for _ in range(5)], axis=0)\n",
        "\n",
        "  return X, Y"
      ],
      "metadata": {
        "id": "6l3wDSuQM9ns"
      },
      "execution_count": 7,
      "outputs": []
    },
    {
      "cell_type": "code",
      "source": [
        "#import mnist dataset\n",
        "\n",
        "X, y = datasets.load_digits (return_X_y=True)\n",
        "\n",
        "#Convert dataset to 32bit float\n",
        "\n",
        "X= np.asarray(X, \"float32\")\n",
        "\n",
        "#Increase the dataset samples\n",
        "\n",
        "X, Y = nudge_dataset(X, y)\n",
        "\n",
        "#Normalise dataset to (0-1)\n",
        "\n",
        "X = minmax_scale(X, feature_range=(0, 1))\n",
        "\n",
        "#Split dataset into 80/20\n",
        "\n",
        "X_train, X_test, Y_train, Y_test = train_test_split(X, Y, test_size=0.2)"
      ],
      "metadata": {
        "id": "DdRW5srsNVOg"
      },
      "execution_count": null,
      "outputs": []
    },
    {
      "cell_type": "code",
      "source": [
        "\n",
        "\n",
        "#Create neural MLP 100 and 10 hidden nuerons\n",
        "\n",
        "neural_net - MLPClassifier(activation-'relu', hidden_layer_sizes-(100, 10), random_state-1, verbose-True)\n",
        "\n",
        "#Create RBM model verbose set to true to show the learning\n",
        "\n",
        "rbm BernoulliRBM(verbose=True)\n",
        "\n",
        "#Combine the two models in a pipeline\n",
        "\n",
        "rbm_features_classifier Pipeline(steps-[(\"rbm\", rbm), (\"logistic\", neural_net)])\n",
        "\n",
        "#Update the learning rate for SGD\n",
        "\n",
        "rbm.learning_rate = 0.06\n",
        "\n",
        "#The number of iterations\n",
        "\n",
        "rbm.n_iter 15\n",
        "\n",
        "#The number of hidden units\n",
        "\n",
        "rbm.n_components = 100\n"
      ],
      "metadata": {
        "id": "xdAHsYc6OyTa"
      },
      "execution_count": null,
      "outputs": []
    }
  ]
}